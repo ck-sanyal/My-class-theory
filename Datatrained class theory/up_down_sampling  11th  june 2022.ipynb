{
 "cells": [
  {
   "cell_type": "markdown",
   "id": "687c86c4",
   "metadata": {},
   "source": [
    "# How to deal Imbalanced Data Set (Imbalance is only applicale in categorical label)"
   ]
  },
  {
   "cell_type": "code",
   "execution_count": 1,
   "id": "58b8da15",
   "metadata": {},
   "outputs": [],
   "source": [
    "import pandas as pd\n",
    "from sklearn.model_selection import train_test_split\n",
    "\n",
    "import warnings\n",
    "warnings.filterwarnings('ignore')"
   ]
  },
  {
   "cell_type": "code",
   "execution_count": 2,
   "id": "93b8c25c",
   "metadata": {},
   "outputs": [
    {
     "data": {
      "text/html": [
       "<div>\n",
       "<style scoped>\n",
       "    .dataframe tbody tr th:only-of-type {\n",
       "        vertical-align: middle;\n",
       "    }\n",
       "\n",
       "    .dataframe tbody tr th {\n",
       "        vertical-align: top;\n",
       "    }\n",
       "\n",
       "    .dataframe thead th {\n",
       "        text-align: right;\n",
       "    }\n",
       "</style>\n",
       "<table border=\"1\" class=\"dataframe\">\n",
       "  <thead>\n",
       "    <tr style=\"text-align: right;\">\n",
       "      <th></th>\n",
       "      <th>Pregnancies</th>\n",
       "      <th>Glucose</th>\n",
       "      <th>BloodPressure</th>\n",
       "      <th>SkinThickness</th>\n",
       "      <th>Insulin</th>\n",
       "      <th>BMI</th>\n",
       "      <th>DiabetesPedigreeFunction</th>\n",
       "      <th>Age</th>\n",
       "      <th>Outcome</th>\n",
       "    </tr>\n",
       "  </thead>\n",
       "  <tbody>\n",
       "    <tr>\n",
       "      <th>0</th>\n",
       "      <td>6</td>\n",
       "      <td>148</td>\n",
       "      <td>72</td>\n",
       "      <td>35</td>\n",
       "      <td>0</td>\n",
       "      <td>33.6</td>\n",
       "      <td>0.627</td>\n",
       "      <td>50</td>\n",
       "      <td>0</td>\n",
       "    </tr>\n",
       "    <tr>\n",
       "      <th>1</th>\n",
       "      <td>1</td>\n",
       "      <td>85</td>\n",
       "      <td>66</td>\n",
       "      <td>29</td>\n",
       "      <td>0</td>\n",
       "      <td>26.6</td>\n",
       "      <td>0.351</td>\n",
       "      <td>31</td>\n",
       "      <td>0</td>\n",
       "    </tr>\n",
       "    <tr>\n",
       "      <th>2</th>\n",
       "      <td>8</td>\n",
       "      <td>183</td>\n",
       "      <td>64</td>\n",
       "      <td>0</td>\n",
       "      <td>0</td>\n",
       "      <td>23.3</td>\n",
       "      <td>0.672</td>\n",
       "      <td>32</td>\n",
       "      <td>0</td>\n",
       "    </tr>\n",
       "    <tr>\n",
       "      <th>3</th>\n",
       "      <td>1</td>\n",
       "      <td>89</td>\n",
       "      <td>66</td>\n",
       "      <td>23</td>\n",
       "      <td>94</td>\n",
       "      <td>28.1</td>\n",
       "      <td>0.167</td>\n",
       "      <td>21</td>\n",
       "      <td>0</td>\n",
       "    </tr>\n",
       "    <tr>\n",
       "      <th>4</th>\n",
       "      <td>0</td>\n",
       "      <td>137</td>\n",
       "      <td>40</td>\n",
       "      <td>35</td>\n",
       "      <td>168</td>\n",
       "      <td>43.1</td>\n",
       "      <td>2.288</td>\n",
       "      <td>33</td>\n",
       "      <td>0</td>\n",
       "    </tr>\n",
       "  </tbody>\n",
       "</table>\n",
       "</div>"
      ],
      "text/plain": [
       "   Pregnancies  Glucose  BloodPressure  SkinThickness  Insulin   BMI  \\\n",
       "0            6      148             72             35        0  33.6   \n",
       "1            1       85             66             29        0  26.6   \n",
       "2            8      183             64              0        0  23.3   \n",
       "3            1       89             66             23       94  28.1   \n",
       "4            0      137             40             35      168  43.1   \n",
       "\n",
       "   DiabetesPedigreeFunction  Age  Outcome  \n",
       "0                     0.627   50        0  \n",
       "1                     0.351   31        0  \n",
       "2                     0.672   32        0  \n",
       "3                     0.167   21        0  \n",
       "4                     2.288   33        0  "
      ]
     },
     "execution_count": 2,
     "metadata": {},
     "output_type": "execute_result"
    }
   ],
   "source": [
    "# you can imbalance the diabetes file yourself. open csv file directory and change most of 1 to 0 and make it imbalance\n",
    "\n",
    "df=pd.read_csv('https://raw.githubusercontent.com/training-ml/Files/main/diabetes_up_down.csv')\n",
    "df.head()"
   ]
  },
  {
   "cell_type": "code",
   "execution_count": 3,
   "id": "a02cacd2",
   "metadata": {},
   "outputs": [
    {
     "data": {
      "text/plain": [
       "0    720\n",
       "1     48\n",
       "Name: Outcome, dtype: int64"
      ]
     },
     "execution_count": 3,
     "metadata": {},
     "output_type": "execute_result"
    }
   ],
   "source": [
    "df['Outcome'].value_counts()\n"
   ]
  },
  {
   "cell_type": "code",
   "execution_count": 4,
   "id": "bfead950",
   "metadata": {},
   "outputs": [],
   "source": [
    "x=df.drop(\"Outcome\",axis=1)\n",
    "y=df.Outcome"
   ]
  },
  {
   "cell_type": "code",
   "execution_count": 5,
   "id": "2e276d91",
   "metadata": {},
   "outputs": [],
   "source": [
    "x_train,x_test,y_train,y_test=train_test_split(x,y,train_size=0.75,random_state=41)"
   ]
  },
  {
   "cell_type": "code",
   "execution_count": 6,
   "id": "8292496f",
   "metadata": {},
   "outputs": [
    {
     "name": "stdout",
     "output_type": "stream",
     "text": [
      "Training Outcome - \n",
      " 0    544\n",
      "1     32\n",
      "Name: Outcome, dtype: int64\n"
     ]
    }
   ],
   "source": [
    "print('Training Outcome - \\n',y_train.value_counts())"
   ]
  },
  {
   "cell_type": "code",
   "execution_count": 7,
   "id": "069bbd93",
   "metadata": {},
   "outputs": [
    {
     "data": {
      "text/plain": [
       "Counter({1: 32, 0: 544})"
      ]
     },
     "execution_count": 7,
     "metadata": {},
     "output_type": "execute_result"
    }
   ],
   "source": [
    "# you can also use counter module to count each class\n",
    "from collections import Counter\n",
    "Counter(y_train)"
   ]
  },
  {
   "cell_type": "markdown",
   "id": "4011c4b6",
   "metadata": {},
   "source": [
    "# Over Sampling using SMOTE (Synthetic Minority Oversampling Technique)\n",
    ". This technique can be used when you have small data set\n",
    "\n",
    ". This uses the euclidian distance method and find the closest data points to the minority class and create new minority data points"
   ]
  },
  {
   "cell_type": "code",
   "execution_count": 8,
   "id": "7e280250",
   "metadata": {},
   "outputs": [],
   "source": [
    "# if you face any issue with \"from imblearn.over_sampling import SMOTE\", then execute below 5 lines first\n"
   ]
  },
  {
   "cell_type": "code",
   "execution_count": 14,
   "id": "92a7f3e8",
   "metadata": {},
   "outputs": [],
   "source": [
    "import six\n",
    "import joblib\n",
    "import sys\n",
    "sys.modules['sklearn.extrnals.six']= six\n",
    "sys.modules['sklearn.externals.joblib']=joblib\n",
    "\n"
   ]
  },
  {
   "cell_type": "code",
   "execution_count": 10,
   "id": "f2f12e4e",
   "metadata": {},
   "outputs": [],
   "source": [
    "#pip install imblearn"
   ]
  },
  {
   "cell_type": "code",
   "execution_count": 11,
   "id": "da8cf180",
   "metadata": {},
   "outputs": [],
   "source": [
    "#!pip install imblearn\n",
    "\n"
   ]
  },
  {
   "cell_type": "code",
   "execution_count": 16,
   "id": "1efd0cd7",
   "metadata": {
    "scrolled": true
   },
   "outputs": [],
   "source": [
    "# SMOTE picks the minority class nearest samples and create more samples\n",
    "\n",
    "from imblearn.over_sampling import SMOTE"
   ]
  },
  {
   "cell_type": "code",
   "execution_count": 20,
   "id": "0123307d",
   "metadata": {},
   "outputs": [],
   "source": [
    "#sm=SMOTE()\n"
   ]
  },
  {
   "cell_type": "code",
   "execution_count": 23,
   "id": "d008ab69",
   "metadata": {},
   "outputs": [
    {
     "name": "stdout",
     "output_type": "stream",
     "text": [
      "The number of classes before fitCounter({0: 544, 1: 32})\n",
      "The number of classes afterfitCounter({0: 544, 1: 408})\n"
     ]
    }
   ],
   "source": [
    "ove_smp=SMOTE(0.75)\n",
    "x_train_ns,y_train_ns=ove_smp.fit_resample(x_train,y_train)\n",
    "\n",
    "print(\"The number of classes before fit{}\".format(Counter(y_train)))\n",
    "print(\"The number of classes afterfit{}\".format(Counter(y_train_ns)))"
   ]
  },
  {
   "cell_type": "markdown",
   "id": "f1811713",
   "metadata": {},
   "source": [
    "# Downsampling using NearMiss"
   ]
  },
  {
   "cell_type": "markdown",
   "id": "429cb550",
   "metadata": {},
   "source": [
    "The technique can be used when you have large data set\n",
    "The uses the euclidian distance method and find the closest data points to the minority class and will eliminate the majority data points which are not close to the minority data points."
   ]
  },
  {
   "cell_type": "code",
   "execution_count": 24,
   "id": "c72d5ab8",
   "metadata": {},
   "outputs": [],
   "source": [
    "from imblearn.under_sampling import NearMiss"
   ]
  },
  {
   "cell_type": "code",
   "execution_count": 25,
   "id": "5c347708",
   "metadata": {},
   "outputs": [
    {
     "name": "stdout",
     "output_type": "stream",
     "text": [
      "The number of classes before fitCounter({0: 544, 1: 32})\n",
      "The number of classes afterfitCounter({0: 42, 1: 32})\n"
     ]
    }
   ],
   "source": [
    "ds=NearMiss(0.75)\n",
    "x_train_ns,y_train_ns=ds.fit_resample(x_train,y_train)\n",
    "\n",
    "print(\"The number of classes before fit{}\".format(Counter(y_train)))\n",
    "print(\"The number of classes afterfit{}\".format(Counter(y_train_ns)))"
   ]
  },
  {
   "cell_type": "code",
   "execution_count": null,
   "id": "74036e55",
   "metadata": {},
   "outputs": [],
   "source": []
  }
 ],
 "metadata": {
  "kernelspec": {
   "display_name": "Python 3 (ipykernel)",
   "language": "python",
   "name": "python3"
  },
  "language_info": {
   "codemirror_mode": {
    "name": "ipython",
    "version": 3
   },
   "file_extension": ".py",
   "mimetype": "text/x-python",
   "name": "python",
   "nbconvert_exporter": "python",
   "pygments_lexer": "ipython3",
   "version": "3.9.7"
  }
 },
 "nbformat": 4,
 "nbformat_minor": 5
}
