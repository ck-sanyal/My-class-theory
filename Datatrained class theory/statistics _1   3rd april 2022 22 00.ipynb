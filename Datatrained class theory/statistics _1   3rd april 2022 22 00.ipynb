{
 "cells": [
  {
   "cell_type": "markdown",
   "id": "e104ad90",
   "metadata": {},
   "source": [
    "# Introduction to statistics\n",
    "1. Types of statistics\n",
    "\n",
    "\n",
    "\n",
    "    Descriptive and Inferential\n",
    "    \n",
    "2. Analytics Methodology and how industry use statistics\n",
    "                               1. weather forecasting\n",
    "                               2. Giving Insurance\n",
    "                               3. Stock market\n",
    "                               4. Drug effectiveness before releasing to the public\n",
    "                               5. Diseased survival probablity\n",
    "                               6. Election winning and exit poll prediction\n",
    "                               7. Loan approval and fraud detection\n",
    "                               8. Netflix/Amazon recommendation\n",
    "                               9.New campaign effectiveness\n",
    "3. Population and sample \n",
    "4. Parameter and statistics(mean,Median,mode)\n",
    "5. \n"
   ]
  },
  {
   "cell_type": "code",
   "execution_count": 2,
   "id": "27e7743f",
   "metadata": {},
   "outputs": [
    {
     "name": "stdout",
     "output_type": "stream",
     "text": [
      "45\n"
     ]
    }
   ],
   "source": [
    "# Mean (using stat)\n",
    "\n",
    "import statistics as st\n",
    "x=[10,20,30,40,35,40,40,50,50,50,50,45,50,60,70,80]\n",
    "print (st.mean(x))\n",
    "\n",
    "\n",
    "# using pandas\n",
    "# import pandas as pd\n",
    "# x_=pd.DataFrame(x)\n",
    "#print(x_.mean())"
   ]
  },
  {
   "cell_type": "code",
   "execution_count": 4,
   "id": "66eacdd6",
   "metadata": {},
   "outputs": [
    {
     "name": "stdout",
     "output_type": "stream",
     "text": [
      "0    45.0\n",
      "dtype: float64\n"
     ]
    }
   ],
   "source": [
    "#using pandas\n",
    "import pandas as pd\n",
    "x_=pd.DataFrame(x)\n",
    "print(x_.mean())"
   ]
  },
  {
   "cell_type": "code",
   "execution_count": 5,
   "id": "11c2ab78",
   "metadata": {},
   "outputs": [
    {
     "name": "stdout",
     "output_type": "stream",
     "text": [
      "47.5\n"
     ]
    }
   ],
   "source": [
    "#Median\n",
    "print(st.median(x))"
   ]
  },
  {
   "cell_type": "code",
   "execution_count": 6,
   "id": "ae59b71c",
   "metadata": {},
   "outputs": [
    {
     "name": "stdout",
     "output_type": "stream",
     "text": [
      "50\n"
     ]
    }
   ],
   "source": [
    "#Mode\n",
    "print(st.mode(x))"
   ]
  },
  {
   "cell_type": "code",
   "execution_count": null,
   "id": "be83467f",
   "metadata": {},
   "outputs": [],
   "source": []
  },
  {
   "cell_type": "code",
   "execution_count": null,
   "id": "06e3e328",
   "metadata": {},
   "outputs": [],
   "source": []
  },
  {
   "cell_type": "markdown",
   "id": "36337c60",
   "metadata": {},
   "source": [
    "# 5. Uses of variable: Dependent and Independent variable\n",
    "# 6. Types of Variable : Numerical and categorical variable\n",
    "1.Numerical \n",
    "\n",
    "       a. continuous (Age, Marks)\n",
    "       b. Discrete ( shoe size, Ranks)\n",
    "\n",
    "2.Categorical(string)\n",
    "\n",
    "      a. Ordinal (Rating, Education level)\n",
    "      b. Nominal(Gender,Brands)"
   ]
  },
  {
   "cell_type": "code",
   "execution_count": null,
   "id": "315f5be3",
   "metadata": {},
   "outputs": [],
   "source": []
  }
 ],
 "metadata": {
  "kernelspec": {
   "display_name": "Python 3 (ipykernel)",
   "language": "python",
   "name": "python3"
  },
  "language_info": {
   "codemirror_mode": {
    "name": "ipython",
    "version": 3
   },
   "file_extension": ".py",
   "mimetype": "text/x-python",
   "name": "python",
   "nbconvert_exporter": "python",
   "pygments_lexer": "ipython3",
   "version": "3.9.7"
  }
 },
 "nbformat": 4,
 "nbformat_minor": 5
}
