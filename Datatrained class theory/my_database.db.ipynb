{
 "cells": [
  {
   "cell_type": "code",
   "execution_count": 3,
   "id": "5046ddd5",
   "metadata": {},
   "outputs": [
    {
     "name": "stdout",
     "output_type": "stream",
     "text": [
      "1 Record(s) inserted\n"
     ]
    }
   ],
   "source": [
    "import sqlite3\n",
    "db= sqlite3.connect(\"my_database.db\")\n",
    "cursor=db.cursor()\n",
    "cursor.execute(\"CREATE TABLE scores2(gender TEXT,student_id INT PRIMARYKEY,marks INT)\")\n",
    "cursor.execute(\"insert into scores2(gender,student_id,marks) values('male',100,55)\")\n",
    "db.commit()\n",
    "print(cursor.rowcount,\"Record(s) inserted\")"
   ]
  },
  {
   "cell_type": "code",
   "execution_count": 4,
   "id": "6d2f9a69",
   "metadata": {},
   "outputs": [
    {
     "data": {
      "text/plain": [
       "<sqlite3.Cursor at 0xe9738c1570>"
      ]
     },
     "execution_count": 4,
     "metadata": {},
     "output_type": "execute_result"
    }
   ],
   "source": [
    "cursor.execute(\"insert into scores2(gender,student_id,marks) values('female',100,55)\")\n"
   ]
  },
  {
   "cell_type": "code",
   "execution_count": 8,
   "id": "99f6f676",
   "metadata": {},
   "outputs": [
    {
     "name": "stdout",
     "output_type": "stream",
     "text": [
      "1 Record(s) inserted\n"
     ]
    }
   ],
   "source": [
    "cursor.execute(\"insert into scores2(gender,student_id,marks) values('female',101,60)\")\n",
    "db.commit()\n",
    "print(cursor.rowcount,\"Record(s) inserted\")"
   ]
  },
  {
   "cell_type": "code",
   "execution_count": 9,
   "id": "21290546",
   "metadata": {},
   "outputs": [
    {
     "name": "stdout",
     "output_type": "stream",
     "text": [
      "('male', 100, 55)\n",
      "('female', 100, 55)\n",
      "('female', 101, 60)\n",
      "('female', 101, 60)\n",
      "('female', 101, 60)\n",
      "('female', 101, 60)\n"
     ]
    }
   ],
   "source": [
    "results = cursor.execute(\"SELECT * FROM scores2\")\n",
    "for row in results:\n",
    "    print(row)"
   ]
  },
  {
   "cell_type": "code",
   "execution_count": 12,
   "id": "2b71d1eb",
   "metadata": {},
   "outputs": [
    {
     "name": "stdout",
     "output_type": "stream",
     "text": [
      "2 Record(s) inserted\n"
     ]
    }
   ],
   "source": [
    "cursor.execute(\"INSERT INTO scores2(gender,student_id,marks) values('female',102,68),('female',103,60)\")\n",
    "print(cursor.rowcount,\"Record(s) inserted\")"
   ]
  },
  {
   "cell_type": "code",
   "execution_count": 13,
   "id": "1014653d",
   "metadata": {},
   "outputs": [
    {
     "name": "stdout",
     "output_type": "stream",
     "text": [
      "('male', 100, 55)\n",
      "('female', 100, 55)\n",
      "('female', 101, 60)\n",
      "('female', 101, 60)\n",
      "('female', 101, 60)\n",
      "('female', 101, 60)\n",
      "('female', 102, 68)\n",
      "('female', 103, 60)\n",
      "('female', 102, 68)\n",
      "('female', 103, 60)\n"
     ]
    }
   ],
   "source": [
    "results= cursor.execute(\"SELECT * from scores2\")\n",
    "for row in results:\n",
    "    print(row)"
   ]
  },
  {
   "cell_type": "code",
   "execution_count": 15,
   "id": "25938b6d",
   "metadata": {},
   "outputs": [
    {
     "name": "stdout",
     "output_type": "stream",
     "text": [
      "(100, 'male')\n",
      "(100, 'female')\n",
      "(101, 'female')\n",
      "(101, 'female')\n",
      "(101, 'female')\n",
      "(101, 'female')\n",
      "(102, 'female')\n",
      "(103, 'female')\n",
      "(102, 'female')\n",
      "(103, 'female')\n"
     ]
    }
   ],
   "source": [
    "results= cursor.execute(\"SELECT student_id,gender from scores2\")\n",
    "for row in results:\n",
    "    print(row)"
   ]
  },
  {
   "cell_type": "code",
   "execution_count": 39,
   "id": "242b1779",
   "metadata": {},
   "outputs": [
    {
     "ename": "FileNotFoundError",
     "evalue": "[Errno 2] No such file or directory: 'scores_file.csv'",
     "output_type": "error",
     "traceback": [
      "\u001b[1;31m---------------------------------------------------------------------------\u001b[0m",
      "\u001b[1;31mFileNotFoundError\u001b[0m                         Traceback (most recent call last)",
      "\u001b[1;32m~\\AppData\\Local\\Temp/ipykernel_5616/1388103223.py\u001b[0m in \u001b[0;36m<module>\u001b[1;34m\u001b[0m\n\u001b[1;32m----> 1\u001b[1;33m \u001b[1;32mwith\u001b[0m \u001b[0mopen\u001b[0m \u001b[1;33m(\u001b[0m\u001b[1;34m'scores_file.csv'\u001b[0m\u001b[1;33m,\u001b[0m\u001b[1;34m'r'\u001b[0m\u001b[1;33m)\u001b[0m \u001b[1;32mas\u001b[0m \u001b[0mfile\u001b[0m\u001b[1;33m:\u001b[0m\u001b[1;33m\u001b[0m\u001b[1;33m\u001b[0m\u001b[0m\n\u001b[0m\u001b[0;32m      2\u001b[0m     \u001b[0mno_records\u001b[0m\u001b[1;33m=\u001b[0m\u001b[1;36m0\u001b[0m\u001b[1;33m\u001b[0m\u001b[1;33m\u001b[0m\u001b[0m\n\u001b[0;32m      3\u001b[0m     \u001b[1;32mfor\u001b[0m \u001b[0mrow\u001b[0m \u001b[1;32min\u001b[0m \u001b[0mfile\u001b[0m\u001b[1;33m:\u001b[0m\u001b[1;33m\u001b[0m\u001b[1;33m\u001b[0m\u001b[0m\n\u001b[0;32m      4\u001b[0m         \u001b[0mcursor\u001b[0m\u001b[1;33m.\u001b[0m\u001b[0mexecute\u001b[0m\u001b[1;33m(\u001b[0m\u001b[1;34m\"INSERT INTO scores2 VALUES (?,?,?)\"\u001b[0m\u001b[1;33m,\u001b[0m\u001b[0mrow\u001b[0m\u001b[1;33m.\u001b[0m\u001b[0msplit\u001b[0m\u001b[1;33m(\u001b[0m\u001b[1;34m\",\"\u001b[0m\u001b[1;33m)\u001b[0m\u001b[1;33m)\u001b[0m\u001b[1;33m\u001b[0m\u001b[1;33m\u001b[0m\u001b[0m\n\u001b[0;32m      5\u001b[0m         \u001b[0mdb\u001b[0m\u001b[1;33m.\u001b[0m\u001b[0mcommit\u001b[0m\u001b[1;33m(\u001b[0m\u001b[1;33m)\u001b[0m\u001b[1;33m\u001b[0m\u001b[1;33m\u001b[0m\u001b[0m\n",
      "\u001b[1;31mFileNotFoundError\u001b[0m: [Errno 2] No such file or directory: 'scores_file.csv'"
     ]
    }
   ],
   "source": [
    "with open ('scores_file.csv','r') as file:\n",
    "    no_records=0\n",
    "    for row in file:\n",
    "        cursor.execute(\"INSERT INTO scores2 VALUES (?,?,?)\",row.split(\",\"))\n",
    "        db.commit()\n",
    "        no_records +=1\n",
    "        print(no_records,'Records Inserted')"
   ]
  },
  {
   "cell_type": "code",
   "execution_count": null,
   "id": "d48162f7",
   "metadata": {},
   "outputs": [],
   "source": []
  },
  {
   "cell_type": "code",
   "execution_count": 37,
   "id": "1c13ab03",
   "metadata": {},
   "outputs": [
    {
     "name": "stdout",
     "output_type": "stream",
     "text": [
      "('female', 103, 60)\n",
      "('female', 103, 60)\n"
     ]
    }
   ],
   "source": [
    "sql= \"SELECT* From scores2 WHERE student_id = 103\"\n",
    "result= cursor.execute(sql)\n",
    "for row in result:\n",
    "    print(row)"
   ]
  },
  {
   "cell_type": "code",
   "execution_count": 41,
   "id": "c6f81808",
   "metadata": {},
   "outputs": [
    {
     "name": "stdout",
     "output_type": "stream",
     "text": [
      "('male', 100, 55)\n",
      "('female', 100, 55)\n",
      "('female', 101, 60)\n",
      "('female', 101, 60)\n",
      "('female', 101, 60)\n",
      "('female', 101, 60)\n",
      "('female', 102, 68)\n",
      "('female', 102, 68)\n"
     ]
    }
   ],
   "source": [
    "sql = \"DELETE FROM scores2 WHERE student_id = 103\"\n",
    "db.commit()\n",
    "cursor.execute(sql)\n",
    "result = cursor.execute(\"SELECT * from scores2\")\n",
    "for row in result:\n",
    "    print(row)"
   ]
  },
  {
   "cell_type": "code",
   "execution_count": null,
   "id": "69a4a5af",
   "metadata": {},
   "outputs": [],
   "source": []
  }
 ],
 "metadata": {
  "kernelspec": {
   "display_name": "Python 3 (ipykernel)",
   "language": "python",
   "name": "python3"
  },
  "language_info": {
   "codemirror_mode": {
    "name": "ipython",
    "version": 3
   },
   "file_extension": ".py",
   "mimetype": "text/x-python",
   "name": "python",
   "nbconvert_exporter": "python",
   "pygments_lexer": "ipython3",
   "version": "3.9.7"
  }
 },
 "nbformat": 4,
 "nbformat_minor": 5
}
