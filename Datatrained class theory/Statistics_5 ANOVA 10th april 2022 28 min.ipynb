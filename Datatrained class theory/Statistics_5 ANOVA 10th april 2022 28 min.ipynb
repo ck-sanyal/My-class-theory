{
 "cells": [
  {
   "cell_type": "raw",
   "id": "8527b0c5",
   "metadata": {},
   "source": [
    "ANOVA (ANalysis Of VAriance)\n",
    "ANOVA is used to compare differences of means among more than 2 groups. It does this by looking at variation in the data and where that variation is found (hence name). specifically , ANOVA compares the amount of variation between groups with the amount of variation within groups\n",
    "\n",
    ". Null hypothesis, typically is that , all means are equal.\n",
    ". The independent variables are categorical.\n",
    ".Dependent variables are continue"
   ]
  },
  {
   "cell_type": "code",
   "execution_count": 8,
   "id": "b1f501a2",
   "metadata": {},
   "outputs": [
    {
     "data": {
      "text/html": [
       "<div>\n",
       "<style scoped>\n",
       "    .dataframe tbody tr th:only-of-type {\n",
       "        vertical-align: middle;\n",
       "    }\n",
       "\n",
       "    .dataframe tbody tr th {\n",
       "        vertical-align: top;\n",
       "    }\n",
       "\n",
       "    .dataframe thead th {\n",
       "        text-align: right;\n",
       "    }\n",
       "</style>\n",
       "<table border=\"1\" class=\"dataframe\">\n",
       "  <thead>\n",
       "    <tr style=\"text-align: right;\">\n",
       "      <th></th>\n",
       "      <th>Student_ID</th>\n",
       "      <th>Semester</th>\n",
       "      <th>Total_Marks</th>\n",
       "      <th>Unnamed: 3</th>\n",
       "      <th>Unnamed: 4</th>\n",
       "      <th>Unnamed: 5</th>\n",
       "      <th>Unnamed: 6</th>\n",
       "    </tr>\n",
       "  </thead>\n",
       "  <tbody>\n",
       "    <tr>\n",
       "      <th>0</th>\n",
       "      <td>1.0</td>\n",
       "      <td>1.0</td>\n",
       "      <td>365.0</td>\n",
       "      <td>NaN</td>\n",
       "      <td>NaN</td>\n",
       "      <td>NaN</td>\n",
       "      <td>NaN</td>\n",
       "    </tr>\n",
       "    <tr>\n",
       "      <th>1</th>\n",
       "      <td>2.0</td>\n",
       "      <td>3.0</td>\n",
       "      <td>376.0</td>\n",
       "      <td>NaN</td>\n",
       "      <td>NaN</td>\n",
       "      <td>NaN</td>\n",
       "      <td>NaN</td>\n",
       "    </tr>\n",
       "    <tr>\n",
       "      <th>2</th>\n",
       "      <td>3.0</td>\n",
       "      <td>1.0</td>\n",
       "      <td>411.0</td>\n",
       "      <td>NaN</td>\n",
       "      <td>NaN</td>\n",
       "      <td>NaN</td>\n",
       "      <td>NaN</td>\n",
       "    </tr>\n",
       "    <tr>\n",
       "      <th>3</th>\n",
       "      <td>4.0</td>\n",
       "      <td>3.0</td>\n",
       "      <td>436.0</td>\n",
       "      <td>NaN</td>\n",
       "      <td>NaN</td>\n",
       "      <td>NaN</td>\n",
       "      <td>NaN</td>\n",
       "    </tr>\n",
       "    <tr>\n",
       "      <th>4</th>\n",
       "      <td>5.0</td>\n",
       "      <td>2.0</td>\n",
       "      <td>366.0</td>\n",
       "      <td>NaN</td>\n",
       "      <td>NaN</td>\n",
       "      <td>NaN</td>\n",
       "      <td>NaN</td>\n",
       "    </tr>\n",
       "    <tr>\n",
       "      <th>...</th>\n",
       "      <td>...</td>\n",
       "      <td>...</td>\n",
       "      <td>...</td>\n",
       "      <td>...</td>\n",
       "      <td>...</td>\n",
       "      <td>...</td>\n",
       "      <td>...</td>\n",
       "    </tr>\n",
       "    <tr>\n",
       "      <th>196</th>\n",
       "      <td>197.0</td>\n",
       "      <td>3.0</td>\n",
       "      <td>330.0</td>\n",
       "      <td>NaN</td>\n",
       "      <td>NaN</td>\n",
       "      <td>NaN</td>\n",
       "      <td>NaN</td>\n",
       "    </tr>\n",
       "    <tr>\n",
       "      <th>197</th>\n",
       "      <td>198.0</td>\n",
       "      <td>1.0</td>\n",
       "      <td>311.0</td>\n",
       "      <td>NaN</td>\n",
       "      <td>NaN</td>\n",
       "      <td>NaN</td>\n",
       "      <td>NaN</td>\n",
       "    </tr>\n",
       "    <tr>\n",
       "      <th>198</th>\n",
       "      <td>199.0</td>\n",
       "      <td>1.0</td>\n",
       "      <td>358.0</td>\n",
       "      <td>NaN</td>\n",
       "      <td>NaN</td>\n",
       "      <td>NaN</td>\n",
       "      <td>NaN</td>\n",
       "    </tr>\n",
       "    <tr>\n",
       "      <th>199</th>\n",
       "      <td>200.0</td>\n",
       "      <td>2.0</td>\n",
       "      <td>468.0</td>\n",
       "      <td>NaN</td>\n",
       "      <td>NaN</td>\n",
       "      <td>NaN</td>\n",
       "      <td>NaN</td>\n",
       "    </tr>\n",
       "    <tr>\n",
       "      <th>200</th>\n",
       "      <td>NaN</td>\n",
       "      <td>NaN</td>\n",
       "      <td>NaN</td>\n",
       "      <td>NaN</td>\n",
       "      <td>NaN</td>\n",
       "      <td>NaN</td>\n",
       "      <td>NaN</td>\n",
       "    </tr>\n",
       "  </tbody>\n",
       "</table>\n",
       "<p>201 rows × 7 columns</p>\n",
       "</div>"
      ],
      "text/plain": [
       "     Student_ID  Semester  Total_Marks  Unnamed: 3  Unnamed: 4  Unnamed: 5  \\\n",
       "0           1.0       1.0        365.0         NaN         NaN         NaN   \n",
       "1           2.0       3.0        376.0         NaN         NaN         NaN   \n",
       "2           3.0       1.0        411.0         NaN         NaN         NaN   \n",
       "3           4.0       3.0        436.0         NaN         NaN         NaN   \n",
       "4           5.0       2.0        366.0         NaN         NaN         NaN   \n",
       "..          ...       ...          ...         ...         ...         ...   \n",
       "196       197.0       3.0        330.0         NaN         NaN         NaN   \n",
       "197       198.0       1.0        311.0         NaN         NaN         NaN   \n",
       "198       199.0       1.0        358.0         NaN         NaN         NaN   \n",
       "199       200.0       2.0        468.0         NaN         NaN         NaN   \n",
       "200         NaN       NaN          NaN         NaN         NaN         NaN   \n",
       "\n",
       "     Unnamed: 6  \n",
       "0           NaN  \n",
       "1           NaN  \n",
       "2           NaN  \n",
       "3           NaN  \n",
       "4           NaN  \n",
       "..          ...  \n",
       "196         NaN  \n",
       "197         NaN  \n",
       "198         NaN  \n",
       "199         NaN  \n",
       "200         NaN  \n",
       "\n",
       "[201 rows x 7 columns]"
      ]
     },
     "execution_count": 8,
     "metadata": {},
     "output_type": "execute_result"
    }
   ],
   "source": [
    "import pandas as pd\n",
    "hyp=pd.read_csv('Semester marks1.csv')\n",
    "hyp"
   ]
  },
  {
   "cell_type": "markdown",
   "id": "b01672fc",
   "metadata": {},
   "source": [
    "As per ANOVA we need to find continues data based on the categorical variable\n",
    "\n",
    ". Total _marks is continious variable and\n",
    ". semester is categorical variable\n",
    "\n",
    "Ho is average marks of each semester are almost equal\n",
    "Ha is all are not equal"
   ]
  },
  {
   "cell_type": "code",
   "execution_count": 9,
   "id": "0f812188",
   "metadata": {},
   "outputs": [
    {
     "data": {
      "text/plain": [
       "<statsmodels.regression.linear_model.RegressionResultsWrapper at 0x2fb0795a90>"
      ]
     },
     "execution_count": 9,
     "metadata": {},
     "output_type": "execute_result"
    }
   ],
   "source": [
    "import numpy as np\n",
    "import statsmodels.formula.api as sm\n",
    "mod=sm.ols('Total_Marks ~ Semester', data=hyp).fit()\n",
    "mod"
   ]
  },
  {
   "cell_type": "code",
   "execution_count": 11,
   "id": "d61974e0",
   "metadata": {},
   "outputs": [
    {
     "data": {
      "text/html": [
       "<div>\n",
       "<style scoped>\n",
       "    .dataframe tbody tr th:only-of-type {\n",
       "        vertical-align: middle;\n",
       "    }\n",
       "\n",
       "    .dataframe tbody tr th {\n",
       "        vertical-align: top;\n",
       "    }\n",
       "\n",
       "    .dataframe thead th {\n",
       "        text-align: right;\n",
       "    }\n",
       "</style>\n",
       "<table border=\"1\" class=\"dataframe\">\n",
       "  <thead>\n",
       "    <tr style=\"text-align: right;\">\n",
       "      <th></th>\n",
       "      <th>df</th>\n",
       "      <th>sum_sq</th>\n",
       "      <th>mean_sq</th>\n",
       "      <th>F</th>\n",
       "      <th>PR(&gt;F)</th>\n",
       "    </tr>\n",
       "  </thead>\n",
       "  <tbody>\n",
       "    <tr>\n",
       "      <th>Semester</th>\n",
       "      <td>1.0</td>\n",
       "      <td>291.846746</td>\n",
       "      <td>291.846746</td>\n",
       "      <td>0.102572</td>\n",
       "      <td>0.749102</td>\n",
       "    </tr>\n",
       "    <tr>\n",
       "      <th>Residual</th>\n",
       "      <td>198.0</td>\n",
       "      <td>563366.873254</td>\n",
       "      <td>2845.287239</td>\n",
       "      <td>NaN</td>\n",
       "      <td>NaN</td>\n",
       "    </tr>\n",
       "  </tbody>\n",
       "</table>\n",
       "</div>"
      ],
      "text/plain": [
       "             df         sum_sq      mean_sq         F    PR(>F)\n",
       "Semester    1.0     291.846746   291.846746  0.102572  0.749102\n",
       "Residual  198.0  563366.873254  2845.287239       NaN       NaN"
      ]
     },
     "execution_count": 11,
     "metadata": {},
     "output_type": "execute_result"
    }
   ],
   "source": [
    "import statsmodels.api as k\n",
    "aov_table=k.stats.anova_lm(mod,typ=1)\n",
    "aov_table"
   ]
  },
  {
   "cell_type": "markdown",
   "id": "70d2c9c4",
   "metadata": {},
   "source": [
    "Let's see manually if the average marks of each semester are close to each other"
   ]
  },
  {
   "cell_type": "code",
   "execution_count": 12,
   "id": "c35febd3",
   "metadata": {},
   "outputs": [
    {
     "name": "stdout",
     "output_type": "stream",
     "text": [
      "1st Sem avg marks = 403.0\n",
      "2nd Sem avg marks = 393.0\n",
      "3rd Sem avg marks = 406.0\n"
     ]
    }
   ],
   "source": [
    "# semester 1 Average marks\n",
    "print('1st Sem avg marks =',np.ceil(hyp['Total_Marks'][hyp['Semester']==1].mean()))\n",
    "\n",
    "# semester 2 Average marks\n",
    "print('2nd Sem avg marks =',np.ceil(hyp['Total_Marks'][hyp['Semester']==2].mean()))\n",
    "\n",
    "# semester 3 Average marks\n",
    "print('3rd Sem avg marks =',np.ceil(hyp['Total_Marks'][hyp['Semester']==3].mean()))"
   ]
  },
  {
   "cell_type": "markdown",
   "id": "a982c017",
   "metadata": {},
   "source": [
    "# Realtime research on human body-\n",
    "if different types of drinks (coffee,water,milk,soda etc) have the same effect (reaction time in the morning) on human body or not?\n",
    "\n",
    "Null hypothesis- All the drinks average reaction time on human body is same\n",
    "Alternate hypothesis- All the drinks average reaction time on human body is NOT same"
   ]
  }
 ],
 "metadata": {
  "kernelspec": {
   "display_name": "Python 3 (ipykernel)",
   "language": "python",
   "name": "python3"
  },
  "language_info": {
   "codemirror_mode": {
    "name": "ipython",
    "version": 3
   },
   "file_extension": ".py",
   "mimetype": "text/x-python",
   "name": "python",
   "nbconvert_exporter": "python",
   "pygments_lexer": "ipython3",
   "version": "3.9.7"
  }
 },
 "nbformat": 4,
 "nbformat_minor": 5
}
