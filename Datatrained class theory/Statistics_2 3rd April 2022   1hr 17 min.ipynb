{
 "cells": [
  {
   "cell_type": "markdown",
   "id": "53bd6176",
   "metadata": {},
   "source": [
    "# Descriptive statistics\n",
    "\n",
    "1. Measure of central tendency \n",
    "2. Measure of dispersion(spread)"
   ]
  },
  {
   "cell_type": "code",
   "execution_count": 1,
   "id": "23fde36a",
   "metadata": {},
   "outputs": [
    {
     "name": "stdout",
     "output_type": "stream",
     "text": [
      "[34 33 32 34 31 33 32 33 33 30]\n"
     ]
    }
   ],
   "source": [
    "# Measure of central Tendency\n",
    "import numpy as np\n",
    "import pandas as pd\n",
    "\n",
    "\n",
    "#Mean\n",
    "x= np.random.randint(30,35,10)\n",
    "\n",
    "\n",
    "print(x)"
   ]
  },
  {
   "cell_type": "code",
   "execution_count": 2,
   "id": "fe0c3fc5",
   "metadata": {},
   "outputs": [
    {
     "name": "stdout",
     "output_type": "stream",
     "text": [
      "32.5\n"
     ]
    }
   ],
   "source": [
    "print(np.mean(x))"
   ]
  },
  {
   "cell_type": "code",
   "execution_count": 3,
   "id": "d7e52bff",
   "metadata": {},
   "outputs": [
    {
     "data": {
      "text/plain": [
       "33.0"
      ]
     },
     "execution_count": 3,
     "metadata": {},
     "output_type": "execute_result"
    }
   ],
   "source": [
    "#Median\n",
    "np.median(x)"
   ]
  },
  {
   "cell_type": "markdown",
   "id": "1c9fca37",
   "metadata": {},
   "source": [
    "# Measure of Dispersion"
   ]
  },
  {
   "cell_type": "code",
   "execution_count": 4,
   "id": "d0acbb67",
   "metadata": {},
   "outputs": [
    {
     "name": "stdout",
     "output_type": "stream",
     "text": [
      "variance - 1.45\n",
      "std. Dv - 1.2041594578792296\n"
     ]
    }
   ],
   "source": [
    "# variance = Means of squared deviations (below)\n",
    "print('variance -', np.var(x))\n",
    "\n",
    "# std= sqrt of variance \n",
    "print('std. Dv -', np.std(x))"
   ]
  },
  {
   "cell_type": "markdown",
   "id": "ea8bc6c5",
   "metadata": {},
   "source": []
  },
  {
   "cell_type": "code",
   "execution_count": 5,
   "id": "cb98736e",
   "metadata": {},
   "outputs": [
    {
     "data": {
      "text/html": [
       "<div>\n",
       "<style scoped>\n",
       "    .dataframe tbody tr th:only-of-type {\n",
       "        vertical-align: middle;\n",
       "    }\n",
       "\n",
       "    .dataframe tbody tr th {\n",
       "        vertical-align: top;\n",
       "    }\n",
       "\n",
       "    .dataframe thead th {\n",
       "        text-align: right;\n",
       "    }\n",
       "</style>\n",
       "<table border=\"1\" class=\"dataframe\">\n",
       "  <thead>\n",
       "    <tr style=\"text-align: right;\">\n",
       "      <th></th>\n",
       "      <th>0</th>\n",
       "    </tr>\n",
       "  </thead>\n",
       "  <tbody>\n",
       "    <tr>\n",
       "      <th>count</th>\n",
       "      <td>8.000000</td>\n",
       "    </tr>\n",
       "    <tr>\n",
       "      <th>mean</th>\n",
       "      <td>45.000000</td>\n",
       "    </tr>\n",
       "    <tr>\n",
       "      <th>std</th>\n",
       "      <td>24.494897</td>\n",
       "    </tr>\n",
       "    <tr>\n",
       "      <th>min</th>\n",
       "      <td>10.000000</td>\n",
       "    </tr>\n",
       "    <tr>\n",
       "      <th>25%</th>\n",
       "      <td>27.500000</td>\n",
       "    </tr>\n",
       "    <tr>\n",
       "      <th>50%</th>\n",
       "      <td>45.000000</td>\n",
       "    </tr>\n",
       "    <tr>\n",
       "      <th>75%</th>\n",
       "      <td>62.500000</td>\n",
       "    </tr>\n",
       "    <tr>\n",
       "      <th>max</th>\n",
       "      <td>80.000000</td>\n",
       "    </tr>\n",
       "  </tbody>\n",
       "</table>\n",
       "</div>"
      ],
      "text/plain": [
       "               0\n",
       "count   8.000000\n",
       "mean   45.000000\n",
       "std    24.494897\n",
       "min    10.000000\n",
       "25%    27.500000\n",
       "50%    45.000000\n",
       "75%    62.500000\n",
       "max    80.000000"
      ]
     },
     "execution_count": 5,
     "metadata": {},
     "output_type": "execute_result"
    }
   ],
   "source": [
    "# Quantiles\n",
    "y=[10,20,30,40,50,60,70,80]\n",
    "y_=pd.DataFrame(y)\n",
    "y_.describe()"
   ]
  },
  {
   "cell_type": "code",
   "execution_count": 6,
   "id": "2885d897",
   "metadata": {},
   "outputs": [],
   "source": [
    "#Inter Quantiles=> Q3-Q1\n",
    "# Quanttile Range=> Max - min\n",
    "# IQRange"
   ]
  },
  {
   "cell_type": "markdown",
   "id": "8215ae7f",
   "metadata": {},
   "source": [
    "# Inferential Statistics\n",
    "\n",
    "\n",
    "\n",
    "sampling data and infer the result to describe entire population"
   ]
  },
  {
   "cell_type": "markdown",
   "id": "bc897046",
   "metadata": {},
   "source": [
    "# Central limit theorem\n",
    "\n",
    "\n",
    "Types of distribution\n",
    "\n",
    "Normal distribution - Distribution is always normal irrespective of sample size\n",
    "\n",
    "Non-Normal distribution- if sample size is adequate (appr>30 sample), distribution starts looking normal \n",
    "\n",
    "Bernoullis distribution\n",
    "Binomial distribution\n",
    "uniform distribution\n",
    "PDF= Probability distribution function\n",
    "CDF= commulative distribution function\n"
   ]
  }
 ],
 "metadata": {
  "kernelspec": {
   "display_name": "Python 3 (ipykernel)",
   "language": "python",
   "name": "python3"
  },
  "language_info": {
   "codemirror_mode": {
    "name": "ipython",
    "version": 3
   },
   "file_extension": ".py",
   "mimetype": "text/x-python",
   "name": "python",
   "nbconvert_exporter": "python",
   "pygments_lexer": "ipython3",
   "version": "3.9.7"
  }
 },
 "nbformat": 4,
 "nbformat_minor": 5
}
