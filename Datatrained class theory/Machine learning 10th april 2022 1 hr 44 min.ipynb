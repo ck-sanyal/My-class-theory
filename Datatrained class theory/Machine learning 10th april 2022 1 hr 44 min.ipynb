{
 "cells": [
  {
   "cell_type": "markdown",
   "id": "d9b5e8ff",
   "metadata": {},
   "source": [
    "# python\n",
    "# SQL\n",
    "# Numpy\n",
    "# pandas\n",
    "# visualization\n",
    "# statistics\n",
    "# Machine learning\n",
    "\n",
    "\n",
    "\n",
    "supervised ML ( Data set will Independent AND dependent variable)\n",
    "\n",
    "            a. regression ( if dependent variable is continious data ) \n",
    "            \n",
    "            b. classification (if dependent variable is categorical data)\n",
    "\n",
    "unsupervised ML (variable)\n",
    "\n",
    "             a. clustering (grouping tthe data)\n",
    "\n",
    "\n",
    "semisupervised ML(x) not covered\n",
    "\n",
    "\n",
    "Reinforcement learning(x) not covered\n"
   ]
  },
  {
   "cell_type": "code",
   "execution_count": null,
   "id": "b64c33f2",
   "metadata": {},
   "outputs": [],
   "source": []
  }
 ],
 "metadata": {
  "kernelspec": {
   "display_name": "Python 3 (ipykernel)",
   "language": "python",
   "name": "python3"
  },
  "language_info": {
   "codemirror_mode": {
    "name": "ipython",
    "version": 3
   },
   "file_extension": ".py",
   "mimetype": "text/x-python",
   "name": "python",
   "nbconvert_exporter": "python",
   "pygments_lexer": "ipython3",
   "version": "3.9.7"
  }
 },
 "nbformat": 4,
 "nbformat_minor": 5
}
