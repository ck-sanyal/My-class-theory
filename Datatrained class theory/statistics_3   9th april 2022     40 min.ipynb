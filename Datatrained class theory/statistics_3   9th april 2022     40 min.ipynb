{
 "cells": [
  {
   "cell_type": "markdown",
   "id": "1173670c",
   "metadata": {},
   "source": [
    "# probablity problem\n",
    "\n",
    "\n",
    ". There are 1000 students who's marks are captured based on their ability in the test. if the same test is given to a new student.what is the probablity of getting 50 marks"
   ]
  },
  {
   "cell_type": "code",
   "execution_count": 1,
   "id": "68de6588",
   "metadata": {},
   "outputs": [],
   "source": [
    "from numpy.random import randint as ri\n",
    "import pandas as pd"
   ]
  },
  {
   "cell_type": "code",
   "execution_count": 5,
   "id": "03843583",
   "metadata": {},
   "outputs": [
    {
     "data": {
      "text/plain": [
       "0    43\n",
       "1    51\n",
       "2    66\n",
       "3    95\n",
       "4    68\n",
       "dtype: int32"
      ]
     },
     "execution_count": 5,
     "metadata": {},
     "output_type": "execute_result"
    }
   ],
   "source": [
    "# Randomly generating 100 int b/w 30 to 100\n",
    "marks = ri(30,100,1000)\n",
    "stu_marks=pd.Series(marks)\n",
    "stu_marks.head()\n"
   ]
  },
  {
   "cell_type": "code",
   "execution_count": 6,
   "id": "acbf2246",
   "metadata": {},
   "outputs": [],
   "source": [
    "# Let's take mean and standard deviation (std). we need these data to find the probablity"
   ]
  },
  {
   "cell_type": "code",
   "execution_count": 8,
   "id": "c719ca71",
   "metadata": {},
   "outputs": [
    {
     "name": "stdout",
     "output_type": "stream",
     "text": [
      "mean marks= 64.487\n",
      "marks std =  19.80308039151973\n"
     ]
    }
   ],
   "source": [
    "#Mean\n",
    "marks_mean= stu_marks.mean()\n",
    "print('mean marks=', marks_mean)\n",
    "\n",
    "#std\n",
    "marks_std=stu_marks.std()\n",
    "print('marks std = ',marks_std)"
   ]
  },
  {
   "cell_type": "code",
   "execution_count": 9,
   "id": "a744a0ee",
   "metadata": {},
   "outputs": [],
   "source": [
    "# what is the probability of a student scoring UPTO 50%\n",
    "x=50"
   ]
  },
  {
   "cell_type": "markdown",
   "id": "826e4735",
   "metadata": {},
   "source": [
    "# probability always between 0-1 and starts from 0"
   ]
  },
  {
   "cell_type": "code",
   "execution_count": 10,
   "id": "6ffa2aa8",
   "metadata": {},
   "outputs": [
    {
     "name": "stdout",
     "output_type": "stream",
     "text": [
      "0.23222076630718658\n"
     ]
    }
   ],
   "source": [
    "import scipy.stats as st\n",
    "\n",
    "# when x(data) is given than , use cdf function to find the probability of scoring marks upto 50(x)\n",
    "prob=st.norm.cdf(x,loc=marks_mean,scale=marks_std)\n",
    "print(prob)"
   ]
  },
  {
   "cell_type": "code",
   "execution_count": 11,
   "id": "3c305cb1",
   "metadata": {},
   "outputs": [],
   "source": [
    " # if you want to the find the probability of scoring marks greater than 50, you can minus prob (1-prob) (--1-0.23=0.77)\n",
    "    \n",
    "    #z=(x-mean)/std"
   ]
  },
  {
   "cell_type": "code",
   "execution_count": 12,
   "id": "add3a0aa",
   "metadata": {},
   "outputs": [
    {
     "data": {
      "text/plain": [
       "-0.7315528550903504"
      ]
     },
     "execution_count": 12,
     "metadata": {},
     "output_type": "execute_result"
    }
   ],
   "source": [
    "score=(x-marks_mean)/marks_std\n",
    "score"
   ]
  },
  {
   "cell_type": "code",
   "execution_count": 13,
   "id": "b76ee945",
   "metadata": {},
   "outputs": [],
   "source": [
    "#problem 2\n",
    "#Find the probability of getting marks between 50-60\n",
    "#Rewrite the problem in below form\n",
    "\n",
    "# p(50<z<60)\n",
    "# p((50-mean)/std<z<(60-mean)/std)\n",
    "z"
   ]
  },
  {
   "cell_type": "code",
   "execution_count": 14,
   "id": "f85a207b",
   "metadata": {},
   "outputs": [
    {
     "data": {
      "text/plain": [
       "-0.7315528550903504"
      ]
     },
     "execution_count": 14,
     "metadata": {},
     "output_type": "execute_result"
    }
   ],
   "source": [
    "#for 50\n",
    "(50-marks_mean)/marks_std\n"
   ]
  },
  {
   "cell_type": "code",
   "execution_count": 15,
   "id": "7b1d1e65",
   "metadata": {},
   "outputs": [
    {
     "data": {
      "text/plain": [
       "-0.22658091121629045"
      ]
     },
     "execution_count": 15,
     "metadata": {},
     "output_type": "execute_result"
    }
   ],
   "source": [
    "#for 60\n",
    "(60-marks_mean)/marks_std\n"
   ]
  },
  {
   "cell_type": "code",
   "execution_count": null,
   "id": "31b8c76b",
   "metadata": {},
   "outputs": [],
   "source": [
    "# now look into the z-table for both 50 and 60. difference is the probability  "
   ]
  }
 ],
 "metadata": {
  "kernelspec": {
   "display_name": "Python 3 (ipykernel)",
   "language": "python",
   "name": "python3"
  },
  "language_info": {
   "codemirror_mode": {
    "name": "ipython",
    "version": 3
   },
   "file_extension": ".py",
   "mimetype": "text/x-python",
   "name": "python",
   "nbconvert_exporter": "python",
   "pygments_lexer": "ipython3",
   "version": "3.9.7"
  }
 },
 "nbformat": 4,
 "nbformat_minor": 5
}
