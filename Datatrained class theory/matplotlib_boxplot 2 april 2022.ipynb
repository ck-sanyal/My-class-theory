{
 "cells": [
  {
   "cell_type": "code",
   "execution_count": 1,
   "id": "9386aba7",
   "metadata": {},
   "outputs": [
    {
     "name": "stderr",
     "output_type": "stream",
     "text": [
      "Matplotlib is building the font cache; this may take a moment.\n"
     ]
    }
   ],
   "source": [
    "import numpy as np\n",
    "import pandas as pd\n",
    "import seaborn as sns\n",
    "import matplotlib.pyplot as plt\n",
    "%matplotlib inline"
   ]
  },
  {
   "cell_type": "code",
   "execution_count": 2,
   "id": "52384104",
   "metadata": {},
   "outputs": [
    {
     "data": {
      "text/html": [
       "<div>\n",
       "<style scoped>\n",
       "    .dataframe tbody tr th:only-of-type {\n",
       "        vertical-align: middle;\n",
       "    }\n",
       "\n",
       "    .dataframe tbody tr th {\n",
       "        vertical-align: top;\n",
       "    }\n",
       "\n",
       "    .dataframe thead th {\n",
       "        text-align: right;\n",
       "    }\n",
       "</style>\n",
       "<table border=\"1\" class=\"dataframe\">\n",
       "  <thead>\n",
       "    <tr style=\"text-align: right;\">\n",
       "      <th></th>\n",
       "      <th>Age_Years</th>\n",
       "      <th>Salary_Thosands</th>\n",
       "    </tr>\n",
       "  </thead>\n",
       "  <tbody>\n",
       "    <tr>\n",
       "      <th>0</th>\n",
       "      <td>10</td>\n",
       "      <td>15</td>\n",
       "    </tr>\n",
       "    <tr>\n",
       "      <th>1</th>\n",
       "      <td>23</td>\n",
       "      <td>22</td>\n",
       "    </tr>\n",
       "    <tr>\n",
       "      <th>2</th>\n",
       "      <td>22</td>\n",
       "      <td>52</td>\n",
       "    </tr>\n",
       "    <tr>\n",
       "      <th>3</th>\n",
       "      <td>21</td>\n",
       "      <td>21</td>\n",
       "    </tr>\n",
       "    <tr>\n",
       "      <th>4</th>\n",
       "      <td>23</td>\n",
       "      <td>34</td>\n",
       "    </tr>\n",
       "    <tr>\n",
       "      <th>5</th>\n",
       "      <td>24</td>\n",
       "      <td>36</td>\n",
       "    </tr>\n",
       "    <tr>\n",
       "      <th>6</th>\n",
       "      <td>27</td>\n",
       "      <td>44</td>\n",
       "    </tr>\n",
       "    <tr>\n",
       "      <th>7</th>\n",
       "      <td>24</td>\n",
       "      <td>63</td>\n",
       "    </tr>\n",
       "    <tr>\n",
       "      <th>8</th>\n",
       "      <td>29</td>\n",
       "      <td>37</td>\n",
       "    </tr>\n",
       "    <tr>\n",
       "      <th>9</th>\n",
       "      <td>32</td>\n",
       "      <td>41</td>\n",
       "    </tr>\n",
       "    <tr>\n",
       "      <th>10</th>\n",
       "      <td>25</td>\n",
       "      <td>23</td>\n",
       "    </tr>\n",
       "    <tr>\n",
       "      <th>11</th>\n",
       "      <td>24</td>\n",
       "      <td>29</td>\n",
       "    </tr>\n",
       "  </tbody>\n",
       "</table>\n",
       "</div>"
      ],
      "text/plain": [
       "    Age_Years  Salary_Thosands\n",
       "0          10               15\n",
       "1          23               22\n",
       "2          22               52\n",
       "3          21               21\n",
       "4          23               34\n",
       "5          24               36\n",
       "6          27               44\n",
       "7          24               63\n",
       "8          29               37\n",
       "9          32               41\n",
       "10         25               23\n",
       "11         24               29"
      ]
     },
     "execution_count": 2,
     "metadata": {},
     "output_type": "execute_result"
    }
   ],
   "source": [
    "emp= {'Age_Years':[10,23,22,21,23,24,27,24,29,32,25,24],'Salary_Thosands':[15,22,52,21,34,36,44,63,37,41,23,29]}\n",
    "df=pd.DataFrame(data=emp)\n",
    "df"
   ]
  },
  {
   "cell_type": "code",
   "execution_count": 4,
   "id": "febc3e3b",
   "metadata": {},
   "outputs": [
    {
     "data": {
      "text/plain": [
       "<function matplotlib.pyplot.show(close=None, block=None)>"
      ]
     },
     "execution_count": 4,
     "metadata": {},
     "output_type": "execute_result"
    },
    {
     "data": {
      "image/png": "[encoded data removed]",
      "text/plain": [
       "<Figure size 360x432 with 1 Axes>"
      ]
     },
     "metadata": {
      "needs_background": "light"
     },
     "output_type": "display_data"
    }
   ],
   "source": [
    "#Box plot\n",
    "plt.figure(figsize=(5,6))\n",
    "ax=sns.boxplot(data=df)\n",
    "plt.yticks(range(5,80,5))    # range on y axis\n",
    "plt.xlabel('Age and Salary')\n",
    "plt.show                                # seaborn version will keep changing, if code doesn't work, please refer official documentation\n",
    "                                            #https://seaborn.pydata.org"
   ]
  },
  {
   "cell_type": "code",
   "execution_count": 6,
   "id": "7ee9cb24",
   "metadata": {},
   "outputs": [
    {
     "data": {
      "text/plain": [
       "<AxesSubplot:>"
      ]
     },
     "execution_count": 6,
     "metadata": {},
     "output_type": "execute_result"
    },
    {
     "data": {
      "image/png": "[encoded data removed]",
      "text/plain": [
       "<Figure size 576x360 with 1 Axes>"
      ]
     },
     "metadata": {
      "needs_background": "light"
     },
     "output_type": "display_data"
    }
   ],
   "source": [
    "df.plot(kind='box', figsize=(8,5),color='r', yticks=range(0,75,5))"
   ]
  },
  {
   "cell_type": "code",
   "execution_count": 7,
   "id": "3c260ef8",
   "metadata": {},
   "outputs": [
    {
     "data": {
      "text/plain": [
       "[15, 21, 22, 23, 29, 34, 36, 37, 41, 44, 52, 63]"
      ]
     },
     "execution_count": 7,
     "metadata": {},
     "output_type": "execute_result"
    }
   ],
   "source": [
    "sal= [15,22,52,21,34,36,44,63,37,41,23,29]\n",
    "sal.sort()\n",
    "sal"
   ]
  },
  {
   "cell_type": "code",
   "execution_count": 8,
   "id": "77922b70",
   "metadata": {},
   "outputs": [],
   "source": [
    "# outliers\n",
    "import pandas as pd\n",
    "ser= pd.Series(sal)"
   ]
  },
  {
   "cell_type": "code",
   "execution_count": 9,
   "id": "ee3e4829",
   "metadata": {},
   "outputs": [
    {
     "data": {
      "text/plain": [
       "0     15\n",
       "1     21\n",
       "2     22\n",
       "3     23\n",
       "4     29\n",
       "5     34\n",
       "6     36\n",
       "7     37\n",
       "8     41\n",
       "9     44\n",
       "10    52\n",
       "11    63\n",
       "dtype: int64"
      ]
     },
     "execution_count": 9,
     "metadata": {},
     "output_type": "execute_result"
    }
   ],
   "source": [
    "ser"
   ]
  },
  {
   "cell_type": "code",
   "execution_count": 10,
   "id": "4326bc19",
   "metadata": {},
   "outputs": [
    {
     "name": "stdout",
     "output_type": "stream",
     "text": [
      "Q1 22.75\n",
      "Q3 41.75\n",
      "IQR 19.0\n"
     ]
    }
   ],
   "source": [
    "# 1st quantile\n",
    "q1=ser.quantile(0.25)\n",
    "print('Q1',q1)\n",
    "\n",
    "#3rd quantile\n",
    "q3=ser.quantile(0.75)\n",
    "print('Q3',q3)\n",
    "\n",
    "#Find the IQR(Inter quantile range) to identify outliers\n",
    "\n",
    "iqr= q3 -q1\n",
    "print('IQR',iqr)"
   ]
  },
  {
   "cell_type": "code",
   "execution_count": 11,
   "id": "ab1a8f69",
   "metadata": {},
   "outputs": [],
   "source": [
    "# Outlier detection formula\n",
    "# higher side= Q3+(1.5 * IQR)\n",
    "# lower side =  Q1-(1.5 * IQR)"
   ]
  },
  {
   "cell_type": "code",
   "execution_count": 12,
   "id": "b1a08a2d",
   "metadata": {},
   "outputs": [
    {
     "name": "stdout",
     "output_type": "stream",
     "text": [
      "70.25\n"
     ]
    }
   ],
   "source": [
    "upside= q3 + (1.5 * iqr)\n",
    "print(upside)"
   ]
  },
  {
   "cell_type": "code",
   "execution_count": 13,
   "id": "d0bc98e7",
   "metadata": {},
   "outputs": [],
   "source": [
    "#anything above 70. 25 is outlier\n"
   ]
  },
  {
   "cell_type": "code",
   "execution_count": 14,
   "id": "fd8c50ab",
   "metadata": {},
   "outputs": [
    {
     "name": "stdout",
     "output_type": "stream",
     "text": [
      "-5.75\n"
     ]
    }
   ],
   "source": [
    "lower_side= q1-(1.5 * iqr)\n",
    "print(lower_side)"
   ]
  },
  {
   "cell_type": "code",
   "execution_count": null,
   "id": "c21d2bef",
   "metadata": {},
   "outputs": [],
   "source": [
    "#anything  below -5.75 is outlier"
   ]
  }
 ],
 "metadata": {
  "kernelspec": {
   "display_name": "Python 3 (ipykernel)",
   "language": "python",
   "name": "python3"
  },
  "language_info": {
   "codemirror_mode": {
    "name": "ipython",
    "version": 3
   },
   "file_extension": ".py",
   "mimetype": "text/x-python",
   "name": "python",
   "nbconvert_exporter": "python",
   "pygments_lexer": "ipython3",
   "version": "3.9.7"
  }
 },
 "nbformat": 4,
 "nbformat_minor": 5
}
